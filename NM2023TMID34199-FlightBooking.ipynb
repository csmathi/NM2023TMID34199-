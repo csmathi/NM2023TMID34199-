{
 "cells": [
  {
   "cell_type": "code",
   "execution_count": 80,
   "id": "a28e3477",
   "metadata": {},
   "outputs": [],
   "source": [
    "#Activity 1:Collect the dataset\n",
    "#Activity 1.1:Importing the libraries\n",
    "import numpy as np\n",
    "import pandas as pd\n",
    "import matplotlib.pyplot as plt\n",
    "import seaborn as sns\n",
    "from sklearn.model_selection import train_test_split\n",
    "from sklearn.ensemble import RandomForestClassifier,GradientBoostingRegressor\n",
    "from sklearn.tree import DecisionTreeClassifier\n",
    "from sklearn.neighbors import KNeighborsClassifier\n",
    "from sklearn.metrics import f1_score\n",
    "from sklearn.metrics import classification_report,confusion_matrix\n",
    "import warnings\n",
    "import pickle\n",
    "from scipy import stats\n",
    "warnings.filterwarnings('ignore')\n",
    "plt.style.use('fivethirtyeight')"
   ]
  },
  {
   "cell_type": "code",
   "execution_count": 81,
   "id": "bbf74069",
   "metadata": {},
   "outputs": [
    {
     "data": {
      "text/html": [
       "<div>\n",
       "<style scoped>\n",
       "    .dataframe tbody tr th:only-of-type {\n",
       "        vertical-align: middle;\n",
       "    }\n",
       "\n",
       "    .dataframe tbody tr th {\n",
       "        vertical-align: top;\n",
       "    }\n",
       "\n",
       "    .dataframe thead th {\n",
       "        text-align: right;\n",
       "    }\n",
       "</style>\n",
       "<table border=\"1\" class=\"dataframe\">\n",
       "  <thead>\n",
       "    <tr style=\"text-align: right;\">\n",
       "      <th></th>\n",
       "      <th>Airline</th>\n",
       "      <th>Date_of_Journey</th>\n",
       "      <th>Source</th>\n",
       "      <th>Destination</th>\n",
       "      <th>Route</th>\n",
       "      <th>Dep_Time</th>\n",
       "      <th>Arrival_Time</th>\n",
       "      <th>Duration</th>\n",
       "      <th>Total_Stops</th>\n",
       "      <th>Additional_Info</th>\n",
       "      <th>Price</th>\n",
       "    </tr>\n",
       "  </thead>\n",
       "  <tbody>\n",
       "    <tr>\n",
       "      <th>0</th>\n",
       "      <td>IndiGo</td>\n",
       "      <td>24/03/2019</td>\n",
       "      <td>Banglore</td>\n",
       "      <td>New Delhi</td>\n",
       "      <td>BLR ? DEL</td>\n",
       "      <td>22:20</td>\n",
       "      <td>01:10 22 Mar</td>\n",
       "      <td>2h 50m</td>\n",
       "      <td>non-stop</td>\n",
       "      <td>No info</td>\n",
       "      <td>3897</td>\n",
       "    </tr>\n",
       "    <tr>\n",
       "      <th>1</th>\n",
       "      <td>Air India</td>\n",
       "      <td>1/05/2019</td>\n",
       "      <td>Kolkata</td>\n",
       "      <td>Banglore</td>\n",
       "      <td>CCU ? IXR ? BBI ? BLR</td>\n",
       "      <td>05:50</td>\n",
       "      <td>13:15</td>\n",
       "      <td>7h 25m</td>\n",
       "      <td>2 stops</td>\n",
       "      <td>No info</td>\n",
       "      <td>7662</td>\n",
       "    </tr>\n",
       "    <tr>\n",
       "      <th>2</th>\n",
       "      <td>Jet Airways</td>\n",
       "      <td>9/06/2019</td>\n",
       "      <td>Delhi</td>\n",
       "      <td>Cochin</td>\n",
       "      <td>DEL ? LKO ? BOM ? COK</td>\n",
       "      <td>09:25</td>\n",
       "      <td>04:25 10 Jun</td>\n",
       "      <td>19h</td>\n",
       "      <td>2 stops</td>\n",
       "      <td>No info</td>\n",
       "      <td>13882</td>\n",
       "    </tr>\n",
       "    <tr>\n",
       "      <th>3</th>\n",
       "      <td>IndiGo</td>\n",
       "      <td>12/05/2019</td>\n",
       "      <td>Kolkata</td>\n",
       "      <td>Banglore</td>\n",
       "      <td>CCU ? NAG ? BLR</td>\n",
       "      <td>18:05</td>\n",
       "      <td>23:30</td>\n",
       "      <td>5h 25m</td>\n",
       "      <td>1 stop</td>\n",
       "      <td>No info</td>\n",
       "      <td>6218</td>\n",
       "    </tr>\n",
       "    <tr>\n",
       "      <th>4</th>\n",
       "      <td>IndiGo</td>\n",
       "      <td>01/03/2019</td>\n",
       "      <td>Banglore</td>\n",
       "      <td>New Delhi</td>\n",
       "      <td>BLR ? NAG ? DEL</td>\n",
       "      <td>16:50</td>\n",
       "      <td>21:35</td>\n",
       "      <td>4h 45m</td>\n",
       "      <td>1 stop</td>\n",
       "      <td>No info</td>\n",
       "      <td>13302</td>\n",
       "    </tr>\n",
       "  </tbody>\n",
       "</table>\n",
       "</div>"
      ],
      "text/plain": [
       "       Airline Date_of_Journey    Source Destination                  Route  \\\n",
       "0       IndiGo      24/03/2019  Banglore   New Delhi              BLR ? DEL   \n",
       "1    Air India       1/05/2019   Kolkata    Banglore  CCU ? IXR ? BBI ? BLR   \n",
       "2  Jet Airways       9/06/2019     Delhi      Cochin  DEL ? LKO ? BOM ? COK   \n",
       "3       IndiGo      12/05/2019   Kolkata    Banglore        CCU ? NAG ? BLR   \n",
       "4       IndiGo      01/03/2019  Banglore   New Delhi        BLR ? NAG ? DEL   \n",
       "\n",
       "  Dep_Time  Arrival_Time Duration Total_Stops Additional_Info  Price  \n",
       "0    22:20  01:10 22 Mar   2h 50m    non-stop         No info   3897  \n",
       "1    05:50         13:15   7h 25m     2 stops         No info   7662  \n",
       "2    09:25  04:25 10 Jun      19h     2 stops         No info  13882  \n",
       "3    18:05         23:30   5h 25m      1 stop         No info   6218  \n",
       "4    16:50         21:35   4h 45m      1 stop         No info  13302  "
      ]
     },
     "execution_count": 81,
     "metadata": {},
     "output_type": "execute_result"
    }
   ],
   "source": [
    "#Activity 1.2:Reading the Dataset\n",
    "import pandas as pd\n",
    "df=pd.read_csv(\"E:\\\\NMDS\\\\FlightBooking.csv\")\n",
    "df.head()"
   ]
  },
  {
   "cell_type": "code",
   "execution_count": 82,
   "id": "146f6b82",
   "metadata": {},
   "outputs": [
    {
     "name": "stdout",
     "output_type": "stream",
     "text": [
      "<class 'pandas.core.frame.DataFrame'>\n",
      "RangeIndex: 10683 entries, 0 to 10682\n",
      "Data columns (total 11 columns):\n",
      " #   Column           Non-Null Count  Dtype \n",
      "---  ------           --------------  ----- \n",
      " 0   Airline          10683 non-null  object\n",
      " 1   Date_of_Journey  10683 non-null  object\n",
      " 2   Source           10683 non-null  object\n",
      " 3   Destination      10683 non-null  object\n",
      " 4   Route            10682 non-null  object\n",
      " 5   Dep_Time         10683 non-null  object\n",
      " 6   Arrival_Time     10683 non-null  object\n",
      " 7   Duration         10683 non-null  object\n",
      " 8   Total_Stops      10682 non-null  object\n",
      " 9   Additional_Info  10683 non-null  object\n",
      " 10  Price            10683 non-null  int64 \n",
      "dtypes: int64(1), object(10)\n",
      "memory usage: 918.2+ KB\n"
     ]
    }
   ],
   "source": [
    "df.info()"
   ]
  },
  {
   "cell_type": "code",
   "execution_count": 83,
   "id": "3ed5567f",
   "metadata": {},
   "outputs": [],
   "source": [
    "#import prision\n",
    "#from prision import Category\n",
    "#for i in category:\n",
    "    #print(i,data[i].unique())"
   ]
  },
  {
   "cell_type": "code",
   "execution_count": 84,
   "id": "fe09559d",
   "metadata": {},
   "outputs": [
    {
     "data": {
      "text/plain": [
       "0        24/03/2019\n",
       "1         1/05/2019\n",
       "2         9/06/2019\n",
       "3        12/05/2019\n",
       "4        01/03/2019\n",
       "            ...    \n",
       "10678     9/04/2019\n",
       "10679    27/04/2019\n",
       "10680    27/04/2019\n",
       "10681    01/03/2019\n",
       "10682     9/05/2019\n",
       "Name: Date_of_Journey, Length: 10683, dtype: object"
      ]
     },
     "execution_count": 84,
     "metadata": {},
     "output_type": "execute_result"
    }
   ],
   "source": [
    "#We now split the Date column to extract the 'Date','Month' and 'Year' values, and store them in \n",
    "#new columns in our data frame\n",
    "df.date_of_Journey=df.Date_of_Journey.str.split('/')\n",
    "df.Date_of_Journey"
   ]
  },
  {
   "cell_type": "code",
   "execution_count": 85,
   "id": "933910ed",
   "metadata": {},
   "outputs": [],
   "source": [
    "#Traiting the data_column\n",
    "df['Date']=df.Date_of_Journey.str[0]\n",
    "df['Month']=df.Date_of_Journey.str[1]\n",
    "df['Year']=df.Date_of_Journey.str[2]"
   ]
  },
  {
   "cell_type": "code",
   "execution_count": 86,
   "id": "2ff748a8",
   "metadata": {},
   "outputs": [
    {
     "data": {
      "text/plain": [
       "array(['non-stop', '2 stops', '1 stop', '3 stops', nan, '4 stops'],\n",
       "      dtype=object)"
      ]
     },
     "execution_count": 86,
     "metadata": {},
     "output_type": "execute_result"
    }
   ],
   "source": [
    "#Split the Route column\n",
    "df.Total_Stops.unique()"
   ]
  },
  {
   "cell_type": "code",
   "execution_count": 87,
   "id": "c5ac228f",
   "metadata": {
    "scrolled": true
   },
   "outputs": [
    {
     "data": {
      "text/plain": [
       "0                    [BLR ? DEL]\n",
       "1        [CCU ? IXR ? BBI ? BLR]\n",
       "2        [DEL ? LKO ? BOM ? COK]\n",
       "3              [CCU ? NAG ? BLR]\n",
       "4              [BLR ? NAG ? DEL]\n",
       "                  ...           \n",
       "10678                [CCU ? BLR]\n",
       "10679                [CCU ? BLR]\n",
       "10680                [BLR ? DEL]\n",
       "10681                [BLR ? DEL]\n",
       "10682    [DEL ? GOI ? BOM ? COK]\n",
       "Name: Route, Length: 10683, dtype: object"
      ]
     },
     "execution_count": 87,
     "metadata": {},
     "output_type": "execute_result"
    }
   ],
   "source": [
    "#We split the data in route column\n",
    "df.Route=df.Route.astype(str).str.split('->')\n",
    "df.Route\n"
   ]
  },
  {
   "cell_type": "code",
   "execution_count": 88,
   "id": "bf83efd5",
   "metadata": {},
   "outputs": [],
   "source": [
    "df['City1']=df.Route.str[0]\n",
    "df['City2']=df.Route.str[1]\n",
    "df['City3']=df.Route.str[2]\n",
    "df['City4']=df.Route.str[3]\n",
    "df['City5']=df.Route.str[4]\n",
    "df['City6']=df.Route.str[5]"
   ]
  },
  {
   "cell_type": "code",
   "execution_count": 89,
   "id": "256eab9c",
   "metadata": {},
   "outputs": [],
   "source": [
    "#In similar manner, we split the Dep_time column, and create separate for departue hours and minutes\n",
    "df.Dep_Time=df.Dep_Time.astype(str).str.split(':')\n",
    "df['Dep_Time_Hour']=df.Dep_Time.str[0]\n",
    "df['Dep_Time_Mins']=df.Dep_Time.str[1]\n"
   ]
  },
  {
   "cell_type": "code",
   "execution_count": 90,
   "id": "783844cb",
   "metadata": {},
   "outputs": [],
   "source": [
    "#We also split the Arrival_Time Column\n",
    "df.Arrival_Time=df.Arrival_Time.astype(str).str.split('')\n",
    "df['Arrival_date']=df.Arrival_Time.str[1]\n",
    "df['Time_of_Arrival']=df.Arrival_Time.str[0]"
   ]
  },
  {
   "cell_type": "code",
   "execution_count": 91,
   "id": "12903c79",
   "metadata": {},
   "outputs": [],
   "source": [
    "df['Time_of_Arrival']=df.Time_of_Arrival.astype(str).str.split(':')\n",
    "df['Arrival_Time_Hour']=df.Time_of_Arrival.str[0]\n",
    "df['Arrival_Time_Mins']=df.Time_of_Arrival.str[1]"
   ]
  },
  {
   "cell_type": "code",
   "execution_count": 92,
   "id": "df68bfcc",
   "metadata": {},
   "outputs": [],
   "source": [
    "#we also treat the 'Total_stops', column, and replace non-stop flights with 0 values and\n",
    "#extract the integer part of the \"Total_Stops\"\n",
    "df.Total_Stops.replace('npn_stop',0,inplace=True)\n",
    "df.Total_Stops=df.Total_Stops.str.split('')\n",
    "df.Total_Stops=df.Total_Stops.str[0]"
   ]
  },
  {
   "cell_type": "code",
   "execution_count": 93,
   "id": "51c6f778",
   "metadata": {},
   "outputs": [
    {
     "data": {
      "text/plain": [
       "array(['No info', 'In-flight meal not included',\n",
       "       'No check-in baggage included', '1 Short layover', 'No Info',\n",
       "       '1 Long layover', 'Change airports', 'Business class',\n",
       "       'Red-eye flight', '2 Long layover'], dtype=object)"
      ]
     },
     "execution_count": 93,
     "metadata": {},
     "output_type": "execute_result"
    }
   ],
   "source": [
    "df.Additional_Info.unique()\n"
   ]
  },
  {
   "cell_type": "code",
   "execution_count": 94,
   "id": "11eca91d",
   "metadata": {},
   "outputs": [],
   "source": [
    "#df.Additional_Info.replace('No Info','No Info',inplace=True)"
   ]
  },
  {
   "cell_type": "code",
   "execution_count": 95,
   "id": "d80d161b",
   "metadata": {},
   "outputs": [
    {
     "data": {
      "text/plain": [
       "(10683, 26)"
      ]
     },
     "execution_count": 95,
     "metadata": {},
     "output_type": "execute_result"
    }
   ],
   "source": [
    "df.shape"
   ]
  },
  {
   "cell_type": "code",
   "execution_count": 96,
   "id": "43bef78d",
   "metadata": {},
   "outputs": [
    {
     "name": "stdout",
     "output_type": "stream",
     "text": [
      "<class 'pandas.core.frame.DataFrame'>\n",
      "RangeIndex: 10683 entries, 0 to 10682\n",
      "Data columns (total 26 columns):\n",
      " #   Column             Non-Null Count  Dtype  \n",
      "---  ------             --------------  -----  \n",
      " 0   Airline            10683 non-null  object \n",
      " 1   Date_of_Journey    10683 non-null  object \n",
      " 2   Source             10683 non-null  object \n",
      " 3   Destination        10683 non-null  object \n",
      " 4   Route              10683 non-null  object \n",
      " 5   Dep_Time           10683 non-null  object \n",
      " 6   Arrival_Time       10683 non-null  object \n",
      " 7   Duration           10683 non-null  object \n",
      " 8   Total_Stops        10682 non-null  object \n",
      " 9   Additional_Info    10683 non-null  object \n",
      " 10  Price              10683 non-null  int64  \n",
      " 11  Date               10683 non-null  object \n",
      " 12  Month              10683 non-null  object \n",
      " 13  Year               10683 non-null  object \n",
      " 14  City1              10683 non-null  object \n",
      " 15  City2              0 non-null      float64\n",
      " 16  City3              0 non-null      float64\n",
      " 17  City4              0 non-null      float64\n",
      " 18  City5              0 non-null      float64\n",
      " 19  City6              0 non-null      float64\n",
      " 20  Dep_Time_Hour      10683 non-null  object \n",
      " 21  Dep_Time_Mins      10683 non-null  object \n",
      " 22  Arrival_date       10683 non-null  object \n",
      " 23  Time_of_Arrival    10683 non-null  object \n",
      " 24  Arrival_Time_Hour  10683 non-null  object \n",
      " 25  Arrival_Time_Mins  0 non-null      float64\n",
      "dtypes: float64(6), int64(1), object(19)\n",
      "memory usage: 2.1+ MB\n"
     ]
    }
   ],
   "source": [
    "df.info()"
   ]
  },
  {
   "cell_type": "code",
   "execution_count": 97,
   "id": "ce3645b6",
   "metadata": {},
   "outputs": [],
   "source": [
    "#we also drop some columns  like 'city6' an 'city5', since majority of the data in these columns was NaN(null)\n",
    "#df.drop(['City4','City5','City6'],axis=1,inplace=True)\n",
    "#df.drop(['Date_of_Journey','Route','Dep_Time','Duration'],axis=1,inplace=True)\n",
    "#df.drop(['Time_of_Arrival'],axis=1,inplace=True)"
   ]
  },
  {
   "cell_type": "code",
   "execution_count": 98,
   "id": "512cf074",
   "metadata": {},
   "outputs": [
    {
     "data": {
      "text/plain": [
       "Airline                  0\n",
       "Date_of_Journey          0\n",
       "Source                   0\n",
       "Destination              0\n",
       "Route                    0\n",
       "Dep_Time                 0\n",
       "Arrival_Time             0\n",
       "Duration                 0\n",
       "Total_Stops              1\n",
       "Additional_Info          0\n",
       "Price                    0\n",
       "Date                     0\n",
       "Month                    0\n",
       "Year                     0\n",
       "City1                    0\n",
       "City2                10683\n",
       "City3                10683\n",
       "City4                10683\n",
       "City5                10683\n",
       "City6                10683\n",
       "Dep_Time_Hour            0\n",
       "Dep_Time_Mins            0\n",
       "Arrival_date             0\n",
       "Time_of_Arrival          0\n",
       "Arrival_Time_Hour        0\n",
       "Arrival_Time_Mins    10683\n",
       "dtype: int64"
      ]
     },
     "execution_count": 98,
     "metadata": {},
     "output_type": "execute_result"
    }
   ],
   "source": [
    "df.isnull().sum()"
   ]
  },
  {
   "cell_type": "code",
   "execution_count": 99,
   "id": "92f5b74c",
   "metadata": {},
   "outputs": [
    {
     "data": {
      "text/plain": [
       "0        None,inplace=True\n",
       "1        None,inplace=True\n",
       "2        None,inplace=True\n",
       "3        None,inplace=True\n",
       "4        None,inplace=True\n",
       "               ...        \n",
       "10678    None,inplace=True\n",
       "10679    None,inplace=True\n",
       "10680    None,inplace=True\n",
       "10681    None,inplace=True\n",
       "10682    None,inplace=True\n",
       "Name: City3, Length: 10683, dtype: object"
      ]
     },
     "execution_count": 99,
     "metadata": {},
     "output_type": "execute_result"
    }
   ],
   "source": [
    "#Activity 2.1:Replacing Missing Values\n",
    "#filling City3 as None, the missing value are less\n",
    "df['City3'].fillna('None,inplace=True')\n"
   ]
  },
  {
   "cell_type": "code",
   "execution_count": 100,
   "id": "69ae2a43",
   "metadata": {},
   "outputs": [],
   "source": [
    "#filling Arrival_Date as Departure_Date\n",
    "df['Arrival_date'].fillna((df['Date']),inplace=True)"
   ]
  },
  {
   "cell_type": "code",
   "execution_count": 101,
   "id": "09c311a2",
   "metadata": {},
   "outputs": [],
   "source": [
    "#filling Travel_Mins as Zero(0)\n",
    "#df['Travel_Mins'].fillna(0,inplace=True)\n",
    "df['Arrival_Time_Mins'].fillna(0,inplace=True)"
   ]
  },
  {
   "cell_type": "code",
   "execution_count": 102,
   "id": "d674d55c",
   "metadata": {},
   "outputs": [
    {
     "name": "stdout",
     "output_type": "stream",
     "text": [
      "<class 'pandas.core.frame.DataFrame'>\n",
      "RangeIndex: 10683 entries, 0 to 10682\n",
      "Data columns (total 26 columns):\n",
      " #   Column             Non-Null Count  Dtype  \n",
      "---  ------             --------------  -----  \n",
      " 0   Airline            10683 non-null  object \n",
      " 1   Date_of_Journey    10683 non-null  object \n",
      " 2   Source             10683 non-null  object \n",
      " 3   Destination        10683 non-null  object \n",
      " 4   Route              10683 non-null  object \n",
      " 5   Dep_Time           10683 non-null  object \n",
      " 6   Arrival_Time       10683 non-null  object \n",
      " 7   Duration           10683 non-null  object \n",
      " 8   Total_Stops        10682 non-null  object \n",
      " 9   Additional_Info    10683 non-null  object \n",
      " 10  Price              10683 non-null  int64  \n",
      " 11  Date               10683 non-null  object \n",
      " 12  Month              10683 non-null  object \n",
      " 13  Year               10683 non-null  object \n",
      " 14  City1              10683 non-null  object \n",
      " 15  City2              0 non-null      float64\n",
      " 16  City3              0 non-null      float64\n",
      " 17  City4              0 non-null      float64\n",
      " 18  City5              0 non-null      float64\n",
      " 19  City6              0 non-null      float64\n",
      " 20  Dep_Time_Hour      10683 non-null  object \n",
      " 21  Dep_Time_Mins      10683 non-null  object \n",
      " 22  Arrival_date       10683 non-null  object \n",
      " 23  Time_of_Arrival    10683 non-null  object \n",
      " 24  Arrival_Time_Hour  10683 non-null  object \n",
      " 25  Arrival_Time_Mins  10683 non-null  float64\n",
      "dtypes: float64(6), int64(1), object(19)\n",
      "memory usage: 2.1+ MB\n"
     ]
    }
   ],
   "source": [
    "df.info()"
   ]
  },
  {
   "cell_type": "code",
   "execution_count": 103,
   "id": "ea7ffd8f",
   "metadata": {},
   "outputs": [
    {
     "data": {
      "text/plain": [
       "Price                1.812552\n",
       "Date                 1.298651\n",
       "City2                     NaN\n",
       "City3                     NaN\n",
       "City4                     NaN\n",
       "City5                     NaN\n",
       "City6                     NaN\n",
       "Dep_Time_Hour        0.113073\n",
       "Dep_Time_Mins        0.167029\n",
       "Arrival_date         0.151783\n",
       "Arrival_Time_Mins    0.000000\n",
       "dtype: float64"
      ]
     },
     "execution_count": 103,
     "metadata": {},
     "output_type": "execute_result"
    }
   ],
   "source": [
    "df.skew()"
   ]
  },
  {
   "cell_type": "code",
   "execution_count": 104,
   "id": "b2c586f3",
   "metadata": {},
   "outputs": [],
   "source": [
    "#changing the numerical columns from object to int\n",
    "#df.Total_Stops=df.Total_Stops.astype('int64')\n",
    "df.Date=df.Date.astype('int64')\n",
    "df.Month=df.Month.astype(str)\n",
    "df.Year=df.Year.astype(str)\n",
    "df.Dep_Time_Hour=df.Dep_Time_Hour.astype('int64')\n",
    "df.Dep_Time_Hour=df.Dep_Time_Hour.astype('int64')\n",
    "df.Dep_Time_Mins=df.Dep_Time_Mins.astype('int64')\n"
   ]
  },
  {
   "cell_type": "code",
   "execution_count": 105,
   "id": "abd069f4",
   "metadata": {},
   "outputs": [
    {
     "data": {
      "text/plain": [
       "[0        False\n",
       " 1        False\n",
       " 2        False\n",
       " 3        False\n",
       " 4        False\n",
       "          ...  \n",
       " 10678    False\n",
       " 10679    False\n",
       " 10680    False\n",
       " 10681    False\n",
       " 10682    False\n",
       " Name: Arrival_Time_Hour, Length: 10683, dtype: bool]"
      ]
     },
     "execution_count": 105,
     "metadata": {},
     "output_type": "execute_result"
    }
   ],
   "source": [
    "[df['Arrival_Time_Hour']=='5m']"
   ]
  },
  {
   "cell_type": "code",
   "execution_count": 106,
   "id": "c0158759",
   "metadata": {},
   "outputs": [],
   "source": [
    "df.drop(index=6474,inplace=True,axis=1)"
   ]
  },
  {
   "cell_type": "code",
   "execution_count": 107,
   "id": "37e5c60f",
   "metadata": {},
   "outputs": [],
   "source": [
    "#df.Travel_Hours=df.Travel_Hours.astype('int64')\n",
    "#df.Arrival_Time_Hour=df.Arrival_Time_Hour.astype('int64')"
   ]
  },
  {
   "cell_type": "code",
   "execution_count": 108,
   "id": "9c144e24",
   "metadata": {},
   "outputs": [],
   "source": [
    "#Creating a list of Different types of Columns\n",
    "Categorical=['Airline','Source','Destination','Additional_Info','City1']\n",
    "Numerical=['Total_Stops','Date','Month','Year','Dep_Time_Hour','Dep_Time_Mins','Arrival_date',\n",
    "           'Arrival_Time_Hour','Arrival_Time_Mins','Travel_Time_Mins','Travel_Hours','Travel_Mins']"
   ]
  },
  {
   "cell_type": "code",
   "execution_count": 109,
   "id": "721ec2e8",
   "metadata": {},
   "outputs": [
    {
     "data": {
      "text/html": [
       "<div>\n",
       "<style scoped>\n",
       "    .dataframe tbody tr th:only-of-type {\n",
       "        vertical-align: middle;\n",
       "    }\n",
       "\n",
       "    .dataframe tbody tr th {\n",
       "        vertical-align: top;\n",
       "    }\n",
       "\n",
       "    .dataframe thead th {\n",
       "        text-align: right;\n",
       "    }\n",
       "</style>\n",
       "<table border=\"1\" class=\"dataframe\">\n",
       "  <thead>\n",
       "    <tr style=\"text-align: right;\">\n",
       "      <th></th>\n",
       "      <th>Airline</th>\n",
       "      <th>Date_of_Journey</th>\n",
       "      <th>Source</th>\n",
       "      <th>Destination</th>\n",
       "      <th>Route</th>\n",
       "      <th>Dep_Time</th>\n",
       "      <th>Arrival_Time</th>\n",
       "      <th>Duration</th>\n",
       "      <th>Total_Stops</th>\n",
       "      <th>Additional_Info</th>\n",
       "      <th>...</th>\n",
       "      <th>City3</th>\n",
       "      <th>City4</th>\n",
       "      <th>City5</th>\n",
       "      <th>City6</th>\n",
       "      <th>Dep_Time_Hour</th>\n",
       "      <th>Dep_Time_Mins</th>\n",
       "      <th>Arrival_date</th>\n",
       "      <th>Time_of_Arrival</th>\n",
       "      <th>Arrival_Time_Hour</th>\n",
       "      <th>Arrival_Time_Mins</th>\n",
       "    </tr>\n",
       "  </thead>\n",
       "  <tbody>\n",
       "    <tr>\n",
       "      <th>0</th>\n",
       "      <td>3</td>\n",
       "      <td>24/03/2019</td>\n",
       "      <td>0</td>\n",
       "      <td>5</td>\n",
       "      <td>[BLR ? DEL]</td>\n",
       "      <td>[22, 20]</td>\n",
       "      <td>[, 0, 1, :, 1, 0,  , 2, 2,  , M, a, r, ]</td>\n",
       "      <td>2h 50m</td>\n",
       "      <td>0</td>\n",
       "      <td>No info</td>\n",
       "      <td>...</td>\n",
       "      <td>0</td>\n",
       "      <td>NaN</td>\n",
       "      <td>NaN</td>\n",
       "      <td>NaN</td>\n",
       "      <td>22</td>\n",
       "      <td>20</td>\n",
       "      <td>0</td>\n",
       "      <td>[]</td>\n",
       "      <td></td>\n",
       "      <td>0.0</td>\n",
       "    </tr>\n",
       "    <tr>\n",
       "      <th>1</th>\n",
       "      <td>1</td>\n",
       "      <td>1/05/2019</td>\n",
       "      <td>3</td>\n",
       "      <td>0</td>\n",
       "      <td>[CCU ? IXR ? BBI ? BLR]</td>\n",
       "      <td>[05, 50]</td>\n",
       "      <td>[, 1, 3, :, 1, 5, ]</td>\n",
       "      <td>7h 25m</td>\n",
       "      <td>0</td>\n",
       "      <td>No info</td>\n",
       "      <td>...</td>\n",
       "      <td>0</td>\n",
       "      <td>NaN</td>\n",
       "      <td>NaN</td>\n",
       "      <td>NaN</td>\n",
       "      <td>5</td>\n",
       "      <td>50</td>\n",
       "      <td>1</td>\n",
       "      <td>[]</td>\n",
       "      <td></td>\n",
       "      <td>0.0</td>\n",
       "    </tr>\n",
       "    <tr>\n",
       "      <th>2</th>\n",
       "      <td>4</td>\n",
       "      <td>9/06/2019</td>\n",
       "      <td>2</td>\n",
       "      <td>1</td>\n",
       "      <td>[DEL ? LKO ? BOM ? COK]</td>\n",
       "      <td>[09, 25]</td>\n",
       "      <td>[, 0, 4, :, 2, 5,  , 1, 0,  , J, u, n, ]</td>\n",
       "      <td>19h</td>\n",
       "      <td>0</td>\n",
       "      <td>No info</td>\n",
       "      <td>...</td>\n",
       "      <td>0</td>\n",
       "      <td>NaN</td>\n",
       "      <td>NaN</td>\n",
       "      <td>NaN</td>\n",
       "      <td>9</td>\n",
       "      <td>25</td>\n",
       "      <td>0</td>\n",
       "      <td>[]</td>\n",
       "      <td></td>\n",
       "      <td>0.0</td>\n",
       "    </tr>\n",
       "    <tr>\n",
       "      <th>3</th>\n",
       "      <td>3</td>\n",
       "      <td>12/05/2019</td>\n",
       "      <td>3</td>\n",
       "      <td>0</td>\n",
       "      <td>[CCU ? NAG ? BLR]</td>\n",
       "      <td>[18, 05]</td>\n",
       "      <td>[, 2, 3, :, 3, 0, ]</td>\n",
       "      <td>5h 25m</td>\n",
       "      <td>0</td>\n",
       "      <td>No info</td>\n",
       "      <td>...</td>\n",
       "      <td>0</td>\n",
       "      <td>NaN</td>\n",
       "      <td>NaN</td>\n",
       "      <td>NaN</td>\n",
       "      <td>18</td>\n",
       "      <td>5</td>\n",
       "      <td>2</td>\n",
       "      <td>[]</td>\n",
       "      <td></td>\n",
       "      <td>0.0</td>\n",
       "    </tr>\n",
       "    <tr>\n",
       "      <th>4</th>\n",
       "      <td>3</td>\n",
       "      <td>01/03/2019</td>\n",
       "      <td>0</td>\n",
       "      <td>5</td>\n",
       "      <td>[BLR ? NAG ? DEL]</td>\n",
       "      <td>[16, 50]</td>\n",
       "      <td>[, 2, 1, :, 3, 5, ]</td>\n",
       "      <td>4h 45m</td>\n",
       "      <td>0</td>\n",
       "      <td>No info</td>\n",
       "      <td>...</td>\n",
       "      <td>0</td>\n",
       "      <td>NaN</td>\n",
       "      <td>NaN</td>\n",
       "      <td>NaN</td>\n",
       "      <td>16</td>\n",
       "      <td>50</td>\n",
       "      <td>2</td>\n",
       "      <td>[]</td>\n",
       "      <td></td>\n",
       "      <td>0.0</td>\n",
       "    </tr>\n",
       "  </tbody>\n",
       "</table>\n",
       "<p>5 rows × 26 columns</p>\n",
       "</div>"
      ],
      "text/plain": [
       "   Airline Date_of_Journey  Source  Destination                    Route  \\\n",
       "0        3      24/03/2019       0            5              [BLR ? DEL]   \n",
       "1        1       1/05/2019       3            0  [CCU ? IXR ? BBI ? BLR]   \n",
       "2        4       9/06/2019       2            1  [DEL ? LKO ? BOM ? COK]   \n",
       "3        3      12/05/2019       3            0        [CCU ? NAG ? BLR]   \n",
       "4        3      01/03/2019       0            5        [BLR ? NAG ? DEL]   \n",
       "\n",
       "   Dep_Time                              Arrival_Time Duration  Total_Stops  \\\n",
       "0  [22, 20]  [, 0, 1, :, 1, 0,  , 2, 2,  , M, a, r, ]   2h 50m            0   \n",
       "1  [05, 50]                       [, 1, 3, :, 1, 5, ]   7h 25m            0   \n",
       "2  [09, 25]  [, 0, 4, :, 2, 5,  , 1, 0,  , J, u, n, ]      19h            0   \n",
       "3  [18, 05]                       [, 2, 3, :, 3, 0, ]   5h 25m            0   \n",
       "4  [16, 50]                       [, 2, 1, :, 3, 5, ]   4h 45m            0   \n",
       "\n",
       "  Additional_Info  ...  City3  City4 City5 City6  Dep_Time_Hour  \\\n",
       "0         No info  ...      0    NaN   NaN   NaN             22   \n",
       "1         No info  ...      0    NaN   NaN   NaN              5   \n",
       "2         No info  ...      0    NaN   NaN   NaN              9   \n",
       "3         No info  ...      0    NaN   NaN   NaN             18   \n",
       "4         No info  ...      0    NaN   NaN   NaN             16   \n",
       "\n",
       "   Dep_Time_Mins  Arrival_date  Time_of_Arrival  Arrival_Time_Hour  \\\n",
       "0             20             0               []                      \n",
       "1             50             1               []                      \n",
       "2             25             0               []                      \n",
       "3              5             2               []                      \n",
       "4             50             2               []                      \n",
       "\n",
       "   Arrival_Time_Mins  \n",
       "0                0.0  \n",
       "1                0.0  \n",
       "2                0.0  \n",
       "3                0.0  \n",
       "4                0.0  \n",
       "\n",
       "[5 rows x 26 columns]"
      ]
     },
     "execution_count": 109,
     "metadata": {},
     "output_type": "execute_result"
    }
   ],
   "source": [
    "#Activity 2.2: Label Encoding\n",
    "from sklearn.preprocessing import LabelEncoder\n",
    "le=LabelEncoder()\n",
    "df.Airline=le.fit_transform(df.Airline)\n",
    "df.Source=le.fit_transform(df.Source)\n",
    "df.Destination=le.fit_transform(df.Destination)\n",
    "df.Total_Stops=le.fit_transform(df.Total_Stops)\n",
    "df.City1=le.fit_transform(df.City1)\n",
    "df.City2=le.fit_transform(df.City2)\n",
    "df.City3=le.fit_transform(df.City3)\n",
    "df.Additional_info=le.fit_transform(df.Additional_Info)\n",
    "df.head()"
   ]
  },
  {
   "cell_type": "code",
   "execution_count": 110,
   "id": "4fabc087",
   "metadata": {},
   "outputs": [
    {
     "data": {
      "text/html": [
       "<div>\n",
       "<style scoped>\n",
       "    .dataframe tbody tr th:only-of-type {\n",
       "        vertical-align: middle;\n",
       "    }\n",
       "\n",
       "    .dataframe tbody tr th {\n",
       "        vertical-align: top;\n",
       "    }\n",
       "\n",
       "    .dataframe thead th {\n",
       "        text-align: right;\n",
       "    }\n",
       "</style>\n",
       "<table border=\"1\" class=\"dataframe\">\n",
       "  <thead>\n",
       "    <tr style=\"text-align: right;\">\n",
       "      <th></th>\n",
       "      <th>Airline</th>\n",
       "      <th>Source</th>\n",
       "      <th>Destination</th>\n",
       "      <th>Date</th>\n",
       "      <th>Month</th>\n",
       "      <th>Year</th>\n",
       "      <th>Dep_Time_Hour</th>\n",
       "      <th>Dep_Time_Mins</th>\n",
       "      <th>Arrival_date</th>\n",
       "      <th>Arrival_Time_Hour</th>\n",
       "      <th>Arrival_Time_Mins</th>\n",
       "      <th>Price</th>\n",
       "    </tr>\n",
       "  </thead>\n",
       "  <tbody>\n",
       "    <tr>\n",
       "      <th>0</th>\n",
       "      <td>3</td>\n",
       "      <td>0</td>\n",
       "      <td>5</td>\n",
       "      <td>2</td>\n",
       "      <td>4</td>\n",
       "      <td>/</td>\n",
       "      <td>22</td>\n",
       "      <td>20</td>\n",
       "      <td>0</td>\n",
       "      <td></td>\n",
       "      <td>0.0</td>\n",
       "      <td>3897</td>\n",
       "    </tr>\n",
       "    <tr>\n",
       "      <th>1</th>\n",
       "      <td>1</td>\n",
       "      <td>3</td>\n",
       "      <td>0</td>\n",
       "      <td>1</td>\n",
       "      <td>/</td>\n",
       "      <td>0</td>\n",
       "      <td>5</td>\n",
       "      <td>50</td>\n",
       "      <td>1</td>\n",
       "      <td></td>\n",
       "      <td>0.0</td>\n",
       "      <td>7662</td>\n",
       "    </tr>\n",
       "    <tr>\n",
       "      <th>2</th>\n",
       "      <td>4</td>\n",
       "      <td>2</td>\n",
       "      <td>1</td>\n",
       "      <td>9</td>\n",
       "      <td>/</td>\n",
       "      <td>0</td>\n",
       "      <td>9</td>\n",
       "      <td>25</td>\n",
       "      <td>0</td>\n",
       "      <td></td>\n",
       "      <td>0.0</td>\n",
       "      <td>13882</td>\n",
       "    </tr>\n",
       "    <tr>\n",
       "      <th>3</th>\n",
       "      <td>3</td>\n",
       "      <td>3</td>\n",
       "      <td>0</td>\n",
       "      <td>1</td>\n",
       "      <td>2</td>\n",
       "      <td>/</td>\n",
       "      <td>18</td>\n",
       "      <td>5</td>\n",
       "      <td>2</td>\n",
       "      <td></td>\n",
       "      <td>0.0</td>\n",
       "      <td>6218</td>\n",
       "    </tr>\n",
       "    <tr>\n",
       "      <th>4</th>\n",
       "      <td>3</td>\n",
       "      <td>0</td>\n",
       "      <td>5</td>\n",
       "      <td>0</td>\n",
       "      <td>1</td>\n",
       "      <td>/</td>\n",
       "      <td>16</td>\n",
       "      <td>50</td>\n",
       "      <td>2</td>\n",
       "      <td></td>\n",
       "      <td>0.0</td>\n",
       "      <td>13302</td>\n",
       "    </tr>\n",
       "  </tbody>\n",
       "</table>\n",
       "</div>"
      ],
      "text/plain": [
       "   Airline  Source  Destination  Date Month Year  Dep_Time_Hour  \\\n",
       "0        3       0            5     2     4    /             22   \n",
       "1        1       3            0     1     /    0              5   \n",
       "2        4       2            1     9     /    0              9   \n",
       "3        3       3            0     1     2    /             18   \n",
       "4        3       0            5     0     1    /             16   \n",
       "\n",
       "   Dep_Time_Mins Arrival_date Arrival_Time_Hour  Arrival_Time_Mins  Price  \n",
       "0             20            0                                  0.0   3897  \n",
       "1             50            1                                  0.0   7662  \n",
       "2             25            0                                  0.0  13882  \n",
       "3              5            2                                  0.0   6218  \n",
       "4             50            2                                  0.0  13302  "
      ]
     },
     "execution_count": 110,
     "metadata": {},
     "output_type": "execute_result"
    }
   ],
   "source": [
    "#Activity 2.3: Output Columns\n",
    "df=df[['Airline','Source','Destination','Date','Month','Year','Dep_Time_Hour','Dep_Time_Mins','Arrival_date',\n",
    "           'Arrival_Time_Hour','Arrival_Time_Mins','Price']]\n",
    "df.head()"
   ]
  },
  {
   "cell_type": "code",
   "execution_count": 111,
   "id": "4320f0b4",
   "metadata": {},
   "outputs": [
    {
     "data": {
      "text/html": [
       "<div>\n",
       "<style scoped>\n",
       "    .dataframe tbody tr th:only-of-type {\n",
       "        vertical-align: middle;\n",
       "    }\n",
       "\n",
       "    .dataframe tbody tr th {\n",
       "        vertical-align: top;\n",
       "    }\n",
       "\n",
       "    .dataframe thead th {\n",
       "        text-align: right;\n",
       "    }\n",
       "</style>\n",
       "<table border=\"1\" class=\"dataframe\">\n",
       "  <thead>\n",
       "    <tr style=\"text-align: right;\">\n",
       "      <th></th>\n",
       "      <th>Airline</th>\n",
       "      <th>Source</th>\n",
       "      <th>Destination</th>\n",
       "      <th>Date</th>\n",
       "      <th>Dep_Time_Hour</th>\n",
       "      <th>Dep_Time_Mins</th>\n",
       "      <th>Arrival_Time_Mins</th>\n",
       "      <th>Price</th>\n",
       "    </tr>\n",
       "  </thead>\n",
       "  <tbody>\n",
       "    <tr>\n",
       "      <th>count</th>\n",
       "      <td>10682.000000</td>\n",
       "      <td>10682.000000</td>\n",
       "      <td>10682.000000</td>\n",
       "      <td>10682.000000</td>\n",
       "      <td>10682.000000</td>\n",
       "      <td>10682.000000</td>\n",
       "      <td>10682.0</td>\n",
       "      <td>10682.000000</td>\n",
       "    </tr>\n",
       "    <tr>\n",
       "      <th>mean</th>\n",
       "      <td>3.966205</td>\n",
       "      <td>1.952069</td>\n",
       "      <td>1.435967</td>\n",
       "      <td>2.941678</td>\n",
       "      <td>12.490358</td>\n",
       "      <td>24.408819</td>\n",
       "      <td>0.0</td>\n",
       "      <td>9086.292735</td>\n",
       "    </tr>\n",
       "    <tr>\n",
       "      <th>std</th>\n",
       "      <td>2.352090</td>\n",
       "      <td>1.177110</td>\n",
       "      <td>1.474773</td>\n",
       "      <td>2.732095</td>\n",
       "      <td>5.748819</td>\n",
       "      <td>18.767225</td>\n",
       "      <td>0.0</td>\n",
       "      <td>4610.885695</td>\n",
       "    </tr>\n",
       "    <tr>\n",
       "      <th>min</th>\n",
       "      <td>0.000000</td>\n",
       "      <td>0.000000</td>\n",
       "      <td>0.000000</td>\n",
       "      <td>0.000000</td>\n",
       "      <td>0.000000</td>\n",
       "      <td>0.000000</td>\n",
       "      <td>0.0</td>\n",
       "      <td>1759.000000</td>\n",
       "    </tr>\n",
       "    <tr>\n",
       "      <th>25%</th>\n",
       "      <td>3.000000</td>\n",
       "      <td>2.000000</td>\n",
       "      <td>0.000000</td>\n",
       "      <td>1.000000</td>\n",
       "      <td>8.000000</td>\n",
       "      <td>5.000000</td>\n",
       "      <td>0.0</td>\n",
       "      <td>5277.000000</td>\n",
       "    </tr>\n",
       "    <tr>\n",
       "      <th>50%</th>\n",
       "      <td>4.000000</td>\n",
       "      <td>2.000000</td>\n",
       "      <td>1.000000</td>\n",
       "      <td>2.000000</td>\n",
       "      <td>11.000000</td>\n",
       "      <td>25.000000</td>\n",
       "      <td>0.0</td>\n",
       "      <td>8372.000000</td>\n",
       "    </tr>\n",
       "    <tr>\n",
       "      <th>75%</th>\n",
       "      <td>4.000000</td>\n",
       "      <td>3.000000</td>\n",
       "      <td>2.000000</td>\n",
       "      <td>3.000000</td>\n",
       "      <td>18.000000</td>\n",
       "      <td>40.000000</td>\n",
       "      <td>0.0</td>\n",
       "      <td>12373.000000</td>\n",
       "    </tr>\n",
       "    <tr>\n",
       "      <th>max</th>\n",
       "      <td>11.000000</td>\n",
       "      <td>4.000000</td>\n",
       "      <td>5.000000</td>\n",
       "      <td>9.000000</td>\n",
       "      <td>23.000000</td>\n",
       "      <td>55.000000</td>\n",
       "      <td>0.0</td>\n",
       "      <td>79512.000000</td>\n",
       "    </tr>\n",
       "  </tbody>\n",
       "</table>\n",
       "</div>"
      ],
      "text/plain": [
       "            Airline        Source   Destination          Date  Dep_Time_Hour  \\\n",
       "count  10682.000000  10682.000000  10682.000000  10682.000000   10682.000000   \n",
       "mean       3.966205      1.952069      1.435967      2.941678      12.490358   \n",
       "std        2.352090      1.177110      1.474773      2.732095       5.748819   \n",
       "min        0.000000      0.000000      0.000000      0.000000       0.000000   \n",
       "25%        3.000000      2.000000      0.000000      1.000000       8.000000   \n",
       "50%        4.000000      2.000000      1.000000      2.000000      11.000000   \n",
       "75%        4.000000      3.000000      2.000000      3.000000      18.000000   \n",
       "max       11.000000      4.000000      5.000000      9.000000      23.000000   \n",
       "\n",
       "       Dep_Time_Mins  Arrival_Time_Mins         Price  \n",
       "count   10682.000000            10682.0  10682.000000  \n",
       "mean       24.408819                0.0   9086.292735  \n",
       "std        18.767225                0.0   4610.885695  \n",
       "min         0.000000                0.0   1759.000000  \n",
       "25%         5.000000                0.0   5277.000000  \n",
       "50%        25.000000                0.0   8372.000000  \n",
       "75%        40.000000                0.0  12373.000000  \n",
       "max        55.000000                0.0  79512.000000  "
      ]
     },
     "execution_count": 111,
     "metadata": {},
     "output_type": "execute_result"
    }
   ],
   "source": [
    "#Activity 3:Exploratory Data Analyis\n",
    "#Activity 3.1: Descriptive statistical\n",
    "df.describe()"
   ]
  },
  {
   "cell_type": "code",
   "execution_count": 112,
   "id": "5155196c",
   "metadata": {},
   "outputs": [
    {
     "data": {
      "image/png": "[encoded data removed]",
      "text/plain": [
       "<Figure size 2000x4500 with 1 Axes>"
      ]
     },
     "metadata": {},
     "output_type": "display_data"
    },
    {
     "data": {
      "image/png": "[encoded data removed]",
      "text/plain": [
       "<Figure size 640x480 with 1 Axes>"
      ]
     },
     "metadata": {},
     "output_type": "display_data"
    },
    {
     "data": {
      "image/png": "[encoded data removed]",
      "text/plain": [
       "<Figure size 640x480 with 1 Axes>"
      ]
     },
     "metadata": {},
     "output_type": "display_data"
    },
    {
     "ename": "KeyError",
     "evalue": "'Additional_Info'",
     "output_type": "error",
     "traceback": [
      "\u001b[1;31m---------------------------------------------------------------------------\u001b[0m",
      "\u001b[1;31mKeyError\u001b[0m                                  Traceback (most recent call last)",
      "File \u001b[1;32m~\\anaconda3\\lib\\site-packages\\pandas\\core\\indexes\\base.py:3802\u001b[0m, in \u001b[0;36mIndex.get_loc\u001b[1;34m(self, key, method, tolerance)\u001b[0m\n\u001b[0;32m   3801\u001b[0m \u001b[38;5;28;01mtry\u001b[39;00m:\n\u001b[1;32m-> 3802\u001b[0m     \u001b[38;5;28;01mreturn\u001b[39;00m \u001b[38;5;28;43mself\u001b[39;49m\u001b[38;5;241;43m.\u001b[39;49m\u001b[43m_engine\u001b[49m\u001b[38;5;241;43m.\u001b[39;49m\u001b[43mget_loc\u001b[49m\u001b[43m(\u001b[49m\u001b[43mcasted_key\u001b[49m\u001b[43m)\u001b[49m\n\u001b[0;32m   3803\u001b[0m \u001b[38;5;28;01mexcept\u001b[39;00m \u001b[38;5;167;01mKeyError\u001b[39;00m \u001b[38;5;28;01mas\u001b[39;00m err:\n",
      "File \u001b[1;32m~\\anaconda3\\lib\\site-packages\\pandas\\_libs\\index.pyx:138\u001b[0m, in \u001b[0;36mpandas._libs.index.IndexEngine.get_loc\u001b[1;34m()\u001b[0m\n",
      "File \u001b[1;32m~\\anaconda3\\lib\\site-packages\\pandas\\_libs\\index.pyx:165\u001b[0m, in \u001b[0;36mpandas._libs.index.IndexEngine.get_loc\u001b[1;34m()\u001b[0m\n",
      "File \u001b[1;32mpandas\\_libs\\hashtable_class_helper.pxi:5745\u001b[0m, in \u001b[0;36mpandas._libs.hashtable.PyObjectHashTable.get_item\u001b[1;34m()\u001b[0m\n",
      "File \u001b[1;32mpandas\\_libs\\hashtable_class_helper.pxi:5753\u001b[0m, in \u001b[0;36mpandas._libs.hashtable.PyObjectHashTable.get_item\u001b[1;34m()\u001b[0m\n",
      "\u001b[1;31mKeyError\u001b[0m: 'Additional_Info'",
      "\nThe above exception was the direct cause of the following exception:\n",
      "\u001b[1;31mKeyError\u001b[0m                                  Traceback (most recent call last)",
      "Cell \u001b[1;32mIn[112], line 8\u001b[0m\n\u001b[0;32m      6\u001b[0m \u001b[38;5;28;01mfor\u001b[39;00m i \u001b[38;5;129;01min\u001b[39;00m Categorical:\n\u001b[0;32m      7\u001b[0m     plt\u001b[38;5;241m.\u001b[39msubplot(\u001b[38;5;241m6\u001b[39m,\u001b[38;5;241m3\u001b[39m,c)\n\u001b[1;32m----> 8\u001b[0m     sns\u001b[38;5;241m.\u001b[39mcountplot(\u001b[43mdf\u001b[49m\u001b[43m[\u001b[49m\u001b[43mi\u001b[49m\u001b[43m]\u001b[49m)\n\u001b[0;32m      9\u001b[0m     plt\u001b[38;5;241m.\u001b[39mxticks(rotation\u001b[38;5;241m=\u001b[39m\u001b[38;5;241m90\u001b[39m)\n\u001b[0;32m     10\u001b[0m     plt\u001b[38;5;241m.\u001b[39mtight_layout(pad\u001b[38;5;241m=\u001b[39m\u001b[38;5;241m3.0\u001b[39m)\n",
      "File \u001b[1;32m~\\anaconda3\\lib\\site-packages\\pandas\\core\\frame.py:3807\u001b[0m, in \u001b[0;36mDataFrame.__getitem__\u001b[1;34m(self, key)\u001b[0m\n\u001b[0;32m   3805\u001b[0m \u001b[38;5;28;01mif\u001b[39;00m \u001b[38;5;28mself\u001b[39m\u001b[38;5;241m.\u001b[39mcolumns\u001b[38;5;241m.\u001b[39mnlevels \u001b[38;5;241m>\u001b[39m \u001b[38;5;241m1\u001b[39m:\n\u001b[0;32m   3806\u001b[0m     \u001b[38;5;28;01mreturn\u001b[39;00m \u001b[38;5;28mself\u001b[39m\u001b[38;5;241m.\u001b[39m_getitem_multilevel(key)\n\u001b[1;32m-> 3807\u001b[0m indexer \u001b[38;5;241m=\u001b[39m \u001b[38;5;28;43mself\u001b[39;49m\u001b[38;5;241;43m.\u001b[39;49m\u001b[43mcolumns\u001b[49m\u001b[38;5;241;43m.\u001b[39;49m\u001b[43mget_loc\u001b[49m\u001b[43m(\u001b[49m\u001b[43mkey\u001b[49m\u001b[43m)\u001b[49m\n\u001b[0;32m   3808\u001b[0m \u001b[38;5;28;01mif\u001b[39;00m is_integer(indexer):\n\u001b[0;32m   3809\u001b[0m     indexer \u001b[38;5;241m=\u001b[39m [indexer]\n",
      "File \u001b[1;32m~\\anaconda3\\lib\\site-packages\\pandas\\core\\indexes\\base.py:3804\u001b[0m, in \u001b[0;36mIndex.get_loc\u001b[1;34m(self, key, method, tolerance)\u001b[0m\n\u001b[0;32m   3802\u001b[0m     \u001b[38;5;28;01mreturn\u001b[39;00m \u001b[38;5;28mself\u001b[39m\u001b[38;5;241m.\u001b[39m_engine\u001b[38;5;241m.\u001b[39mget_loc(casted_key)\n\u001b[0;32m   3803\u001b[0m \u001b[38;5;28;01mexcept\u001b[39;00m \u001b[38;5;167;01mKeyError\u001b[39;00m \u001b[38;5;28;01mas\u001b[39;00m err:\n\u001b[1;32m-> 3804\u001b[0m     \u001b[38;5;28;01mraise\u001b[39;00m \u001b[38;5;167;01mKeyError\u001b[39;00m(key) \u001b[38;5;28;01mfrom\u001b[39;00m \u001b[38;5;21;01merr\u001b[39;00m\n\u001b[0;32m   3805\u001b[0m \u001b[38;5;28;01mexcept\u001b[39;00m \u001b[38;5;167;01mTypeError\u001b[39;00m:\n\u001b[0;32m   3806\u001b[0m     \u001b[38;5;66;03m# If we have a listlike key, _check_indexing_error will raise\u001b[39;00m\n\u001b[0;32m   3807\u001b[0m     \u001b[38;5;66;03m#  InvalidIndexError. Otherwise we fall through and re-raise\u001b[39;00m\n\u001b[0;32m   3808\u001b[0m     \u001b[38;5;66;03m#  the TypeError.\u001b[39;00m\n\u001b[0;32m   3809\u001b[0m     \u001b[38;5;28mself\u001b[39m\u001b[38;5;241m.\u001b[39m_check_indexing_error(key)\n",
      "\u001b[1;31mKeyError\u001b[0m: 'Additional_Info'"
     ]
    },
    {
     "data": {
      "image/png": "[encoded data removed]",
      "text/plain": [
       "<Figure size 640x480 with 1 Axes>"
      ]
     },
     "metadata": {},
     "output_type": "display_data"
    }
   ],
   "source": [
    "#Ploting Countplots for Categorical Data\n",
    "import matplotlib.pyplot as plt\n",
    "import seaborn as sns\n",
    "c=1\n",
    "plt.figure(figsize=(20,45))\n",
    "for i in Categorical:\n",
    "    plt.subplot(6,3,c)\n",
    "    sns.countplot(df[i])\n",
    "    plt.xticks(rotation=90)\n",
    "    plt.tight_layout(pad=3.0)\n",
    "    c=c+1\n",
    "    plt.show()"
   ]
  },
  {
   "cell_type": "code",
   "execution_count": 114,
   "id": "23081bca",
   "metadata": {},
   "outputs": [
    {
     "data": {
      "text/plain": [
       "<Axes: xlabel='Price', ylabel='Density'>"
      ]
     },
     "execution_count": 114,
     "metadata": {},
     "output_type": "execute_result"
    },
    {
     "data": {
      "image/png": "[encoded data removed]",
      "text/plain": [
       "<Figure size 1500x800 with 1 Axes>"
      ]
     },
     "metadata": {},
     "output_type": "display_data"
    }
   ],
   "source": [
    "#Distribution of price column\n",
    "plt.figure(figsize=(15,8))\n",
    "sns.distplot(df.Price)"
   ]
  },
  {
   "cell_type": "code",
   "execution_count": 113,
   "id": "01b1e0bb",
   "metadata": {},
   "outputs": [
    {
     "data": {
      "text/plain": [
       "<Axes: >"
      ]
     },
     "execution_count": 113,
     "metadata": {},
     "output_type": "execute_result"
    },
    {
     "data": {
      "image/png": "[encoded data removed]",
      "text/plain": [
       "<Figure size 640x480 with 2 Axes>"
      ]
     },
     "metadata": {},
     "output_type": "display_data"
    }
   ],
   "source": [
    "sns.heatmap(df.corr(),annot=True)"
   ]
  },
  {
   "cell_type": "code",
   "execution_count": 115,
   "id": "7a7a42ca",
   "metadata": {},
   "outputs": [
    {
     "data": {
      "text/plain": [
       "<Axes: >"
      ]
     },
     "execution_count": 115,
     "metadata": {},
     "output_type": "execute_result"
    },
    {
     "data": {
      "image/png": "[encoded data removed]",
      "text/plain": [
       "<Figure size 640x480 with 1 Axes>"
      ]
     },
     "metadata": {},
     "output_type": "display_data"
    }
   ],
   "source": [
    "#Detecting Outliers\n",
    "import seaborn as sns \n",
    "sns.boxplot(df['Price'])"
   ]
  },
  {
   "cell_type": "code",
   "execution_count": null,
   "id": "51605445",
   "metadata": {},
   "outputs": [],
   "source": [
    "#Scaling the data\n",
    "df=df[['Airline','Source','Destination','Date','Month','Year','Dep_Time_Hour','Dep_Time_Mins','Arrival_date',\n",
    "           'Arrival_Time_Hour','Arrival_Time_Mins','Price']]\n",
    "y=df['Price']\n",
    "x=df.drop(columns=['Price'],axis=1)\n",
    "import pandas as pd\n",
    "from sklearn.preprocessing import StandardScaler\n",
    "ss=StandardScaler()\n",
    "#x_scaled=ss.fit_transform(x)\n",
    "#x_scaled=pd.DataFrame(x_scaled,columns=x.columns)\n",
    "x.head()"
   ]
  },
  {
   "cell_type": "code",
   "execution_count": null,
   "id": "5823a3c5",
   "metadata": {},
   "outputs": [],
   "source": [
    "from sklearn.model_selection import train_test_split\n",
    "x_train,x_test,y_train,y_test=train_test_split(x,y,test_size=0.2,random_state=42)"
   ]
  },
  {
   "cell_type": "code",
   "execution_count": null,
   "id": "49805d27",
   "metadata": {},
   "outputs": [],
   "source": [
    "x_train.tail()"
   ]
  },
  {
   "cell_type": "code",
   "execution_count": null,
   "id": "4c63fa1b",
   "metadata": {},
   "outputs": [],
   "source": [
    "#Model Building \n",
    "#model 1:RandomForestClassifier,GradientBoostingRegressor,AdaBoostRegressor\n",
    "from sklearn.ensemble import RandomForestClassifier,GradientBoostingRegressor,AdaBoostRegressor\n",
    "rfr=RandomForestClassifier()\n",
    "gb=GradientBoostingRegressor()\n",
    "ad=AdaBoostRegressor()"
   ]
  },
  {
   "cell_type": "code",
   "execution_count": null,
   "id": "aea0399a",
   "metadata": {},
   "outputs": [],
   "source": [
    "from sklearn.metrics import f1_score\n",
    "from sklearn.metrics import classification_report,confusion_matrix\n",
    "from sklearn.metrics import r2_score,mean_absoulte_error,mean_squared_error\n",
    "for i in [rfr,gb,ad]:\n",
    "    i.fit(x_train,y_train)\n",
    "    y_pred=i.predict(x_test)\n",
    "test_score=r2_score(y_test,y_pred)\n",
    "train_score=r2_score(y_train,i.predict(x_train))\n",
    "if abs(train_score-test_score)<0.2:\n",
    "    print(i)\n",
    "    print(\"R2 score is\",r2_score(y_test,y_pred))\n",
    "    print(\"R2 for train data\",r2_score(y_train,i.predict(x_train)))\n",
    "    print(\"Mean Absoult Error is\",mean_absolute_error(y_pred,y_test))\n",
    "    print(\"Mean Squared Error is\",mean_squared_error(y_pred,y_test))\n",
    "    print(\"Root Mean Squared Error is\",(mean_squared_error(y_pred,y_test,squared=False)))"
   ]
  },
  {
   "cell_type": "code",
   "execution_count": null,
   "id": "98bfbea5",
   "metadata": {},
   "outputs": [],
   "source": [
    "#model 2:RandomForestClassifier,GradientBoostingRegressor,AdaBoostRegressor\n",
    "from sklearn.neighbors import KNeighborsRegressor\n",
    "from sklearn.svm import SVR\n",
    "from.sklearn.tree import DecisionTreeRegressor\n",
    "from sklearn.metrics import r2_score,mean_absoulte_error,mean_squared_error\n",
    "knn=KNeighborsRegressor()\n",
    "svr=SVR()\n",
    "dt=DecisionTreeRegressor()\n",
    "for i in [knn,svr,dt]:\n",
    "    i.fit(x_train,y_train)\n",
    "    y_pred=i.predict(x_test)\n",
    "test_score=r2_score(y_test,y_pred)\n",
    "train_score=r2_score(y_train,i.predict(x_train))\n",
    "if abs(train_score-test_score)<0.1:\n",
    "    print(i)\n",
    "    print(\"R2 score is\",r2_score(y_test,y_pred))\n",
    "    print(\"R2 for train data\",r2_score(y_train,i.predict(x_train)))\n",
    "    print(\"Mean Absoult Error is\",mean_absolute_error(y_pred,y_test))\n",
    "    print(\"Mean Squared Error is\",mean_squared_error(y_pred,y_test))\n",
    "    print(\"Root Mean Squared Error is\",(mean_squared_error(y_pred,y_test,squared=False)))\n",
    "\n"
   ]
  },
  {
   "cell_type": "code",
   "execution_count": null,
   "id": "5bff845b",
   "metadata": {},
   "outputs": [],
   "source": [
    "#model 3: Checking Cross Validation for RandomForestRegressor\n",
    "from sklearn.model_selection import cross_val_score\n",
    "from sklearn.ensemble import RandomForestClassifier,GradientBoostingRegressor,AdaBoostRegressor\n",
    "rfr=RandomForestClassifier()\n",
    "gb=GradientBoostingRegressor()\n",
    "ad=AdaBoostRegressor()\n",
    "for i in [rfr,gb,ad]:\n",
    "    i.fit(x_train,y_train)\n",
    "    y_pred=i.predict(x_test)\n",
    "for i in range(2,5):\n",
    "    CV=cross_val_score(rfr,x,y,CV=i)\n",
    "print(rfr,CV.mean())"
   ]
  }
 ],
 "metadata": {
  "kernelspec": {
   "display_name": "Python 3 (ipykernel)",
   "language": "python",
   "name": "python3"
  },
  "language_info": {
   "codemirror_mode": {
    "name": "ipython",
    "version": 3
   },
   "file_extension": ".py",
   "mimetype": "text/x-python",
   "name": "python",
   "nbconvert_exporter": "python",
   "pygments_lexer": "ipython3",
   "version": "3.10.9"
  }
 },
 "nbformat": 4,
 "nbformat_minor": 5
}
